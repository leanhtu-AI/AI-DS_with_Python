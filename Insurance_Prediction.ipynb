{
  "cells": [
    {
      "cell_type": "code",
      "execution_count": null,
      "metadata": {
        "id": "z3pbRYHWO5n2"
      },
      "outputs": [],
      "source": [
        "import numpy as np\n",
        "import pandas as pd\n",
        "import seaborn as sns\n",
        "# model building\n",
        "from sklearn.model_selection import train_test_split\n",
        "from sklearn.linear_model import LinearRegression\n",
        "\n",
        "# evaluate models using R-squared and mean squared error\n",
        "from sklearn import metrics\n",
        "\n",
        "# visualise performance\n",
        "import matplotlib.pyplot as plt"
      ]
    },
    {
      "cell_type": "code",
      "execution_count": null,
      "metadata": {
        "colab": {
          "base_uri": "https://localhost:8080/",
          "height": 423
        },
        "id": "7eRQNnN8PBga",
        "outputId": "f90dc580-740c-43f0-fb67-77775381fea7"
      },
      "outputs": [
        {
          "data": {
            "text/html": [
              "\n",
              "  <div id=\"df-9fbbf274-be0e-441a-91ec-2bf6d07e069d\">\n",
              "    <div class=\"colab-df-container\">\n",
              "      <div>\n",
              "<style scoped>\n",
              "    .dataframe tbody tr th:only-of-type {\n",
              "        vertical-align: middle;\n",
              "    }\n",
              "\n",
              "    .dataframe tbody tr th {\n",
              "        vertical-align: top;\n",
              "    }\n",
              "\n",
              "    .dataframe thead th {\n",
              "        text-align: right;\n",
              "    }\n",
              "</style>\n",
              "<table border=\"1\" class=\"dataframe\">\n",
              "  <thead>\n",
              "    <tr style=\"text-align: right;\">\n",
              "      <th></th>\n",
              "      <th>age</th>\n",
              "      <th>sex</th>\n",
              "      <th>bmi</th>\n",
              "      <th>children</th>\n",
              "      <th>smoker</th>\n",
              "      <th>region</th>\n",
              "      <th>charges</th>\n",
              "    </tr>\n",
              "  </thead>\n",
              "  <tbody>\n",
              "    <tr>\n",
              "      <th>0</th>\n",
              "      <td>19</td>\n",
              "      <td>female</td>\n",
              "      <td>27.900</td>\n",
              "      <td>0</td>\n",
              "      <td>yes</td>\n",
              "      <td>southwest</td>\n",
              "      <td>16884.92400</td>\n",
              "    </tr>\n",
              "    <tr>\n",
              "      <th>1</th>\n",
              "      <td>18</td>\n",
              "      <td>male</td>\n",
              "      <td>33.770</td>\n",
              "      <td>1</td>\n",
              "      <td>no</td>\n",
              "      <td>southeast</td>\n",
              "      <td>1725.55230</td>\n",
              "    </tr>\n",
              "    <tr>\n",
              "      <th>2</th>\n",
              "      <td>28</td>\n",
              "      <td>male</td>\n",
              "      <td>33.000</td>\n",
              "      <td>3</td>\n",
              "      <td>no</td>\n",
              "      <td>southeast</td>\n",
              "      <td>4449.46200</td>\n",
              "    </tr>\n",
              "    <tr>\n",
              "      <th>3</th>\n",
              "      <td>33</td>\n",
              "      <td>male</td>\n",
              "      <td>22.705</td>\n",
              "      <td>0</td>\n",
              "      <td>no</td>\n",
              "      <td>northwest</td>\n",
              "      <td>21984.47061</td>\n",
              "    </tr>\n",
              "    <tr>\n",
              "      <th>4</th>\n",
              "      <td>32</td>\n",
              "      <td>male</td>\n",
              "      <td>28.880</td>\n",
              "      <td>0</td>\n",
              "      <td>no</td>\n",
              "      <td>northwest</td>\n",
              "      <td>3866.85520</td>\n",
              "    </tr>\n",
              "    <tr>\n",
              "      <th>...</th>\n",
              "      <td>...</td>\n",
              "      <td>...</td>\n",
              "      <td>...</td>\n",
              "      <td>...</td>\n",
              "      <td>...</td>\n",
              "      <td>...</td>\n",
              "      <td>...</td>\n",
              "    </tr>\n",
              "    <tr>\n",
              "      <th>1333</th>\n",
              "      <td>50</td>\n",
              "      <td>male</td>\n",
              "      <td>30.970</td>\n",
              "      <td>3</td>\n",
              "      <td>no</td>\n",
              "      <td>northwest</td>\n",
              "      <td>10600.54830</td>\n",
              "    </tr>\n",
              "    <tr>\n",
              "      <th>1334</th>\n",
              "      <td>18</td>\n",
              "      <td>female</td>\n",
              "      <td>31.920</td>\n",
              "      <td>0</td>\n",
              "      <td>no</td>\n",
              "      <td>northeast</td>\n",
              "      <td>2205.98080</td>\n",
              "    </tr>\n",
              "    <tr>\n",
              "      <th>1335</th>\n",
              "      <td>18</td>\n",
              "      <td>female</td>\n",
              "      <td>36.850</td>\n",
              "      <td>0</td>\n",
              "      <td>no</td>\n",
              "      <td>southeast</td>\n",
              "      <td>1629.83350</td>\n",
              "    </tr>\n",
              "    <tr>\n",
              "      <th>1336</th>\n",
              "      <td>21</td>\n",
              "      <td>female</td>\n",
              "      <td>25.800</td>\n",
              "      <td>0</td>\n",
              "      <td>no</td>\n",
              "      <td>southwest</td>\n",
              "      <td>2007.94500</td>\n",
              "    </tr>\n",
              "    <tr>\n",
              "      <th>1337</th>\n",
              "      <td>61</td>\n",
              "      <td>female</td>\n",
              "      <td>29.070</td>\n",
              "      <td>0</td>\n",
              "      <td>yes</td>\n",
              "      <td>northwest</td>\n",
              "      <td>29141.36030</td>\n",
              "    </tr>\n",
              "  </tbody>\n",
              "</table>\n",
              "<p>1338 rows × 7 columns</p>\n",
              "</div>\n",
              "      <button class=\"colab-df-convert\" onclick=\"convertToInteractive('df-9fbbf274-be0e-441a-91ec-2bf6d07e069d')\"\n",
              "              title=\"Convert this dataframe to an interactive table.\"\n",
              "              style=\"display:none;\">\n",
              "        \n",
              "  <svg xmlns=\"http://www.w3.org/2000/svg\" height=\"24px\"viewBox=\"0 0 24 24\"\n",
              "       width=\"24px\">\n",
              "    <path d=\"M0 0h24v24H0V0z\" fill=\"none\"/>\n",
              "    <path d=\"M18.56 5.44l.94 2.06.94-2.06 2.06-.94-2.06-.94-.94-2.06-.94 2.06-2.06.94zm-11 1L8.5 8.5l.94-2.06 2.06-.94-2.06-.94L8.5 2.5l-.94 2.06-2.06.94zm10 10l.94 2.06.94-2.06 2.06-.94-2.06-.94-.94-2.06-.94 2.06-2.06.94z\"/><path d=\"M17.41 7.96l-1.37-1.37c-.4-.4-.92-.59-1.43-.59-.52 0-1.04.2-1.43.59L10.3 9.45l-7.72 7.72c-.78.78-.78 2.05 0 2.83L4 21.41c.39.39.9.59 1.41.59.51 0 1.02-.2 1.41-.59l7.78-7.78 2.81-2.81c.8-.78.8-2.07 0-2.86zM5.41 20L4 18.59l7.72-7.72 1.47 1.35L5.41 20z\"/>\n",
              "  </svg>\n",
              "      </button>\n",
              "      \n",
              "  <style>\n",
              "    .colab-df-container {\n",
              "      display:flex;\n",
              "      flex-wrap:wrap;\n",
              "      gap: 12px;\n",
              "    }\n",
              "\n",
              "    .colab-df-convert {\n",
              "      background-color: #E8F0FE;\n",
              "      border: none;\n",
              "      border-radius: 50%;\n",
              "      cursor: pointer;\n",
              "      display: none;\n",
              "      fill: #1967D2;\n",
              "      height: 32px;\n",
              "      padding: 0 0 0 0;\n",
              "      width: 32px;\n",
              "    }\n",
              "\n",
              "    .colab-df-convert:hover {\n",
              "      background-color: #E2EBFA;\n",
              "      box-shadow: 0px 1px 2px rgba(60, 64, 67, 0.3), 0px 1px 3px 1px rgba(60, 64, 67, 0.15);\n",
              "      fill: #174EA6;\n",
              "    }\n",
              "\n",
              "    [theme=dark] .colab-df-convert {\n",
              "      background-color: #3B4455;\n",
              "      fill: #D2E3FC;\n",
              "    }\n",
              "\n",
              "    [theme=dark] .colab-df-convert:hover {\n",
              "      background-color: #434B5C;\n",
              "      box-shadow: 0px 1px 3px 1px rgba(0, 0, 0, 0.15);\n",
              "      filter: drop-shadow(0px 1px 2px rgba(0, 0, 0, 0.3));\n",
              "      fill: #FFFFFF;\n",
              "    }\n",
              "  </style>\n",
              "\n",
              "      <script>\n",
              "        const buttonEl =\n",
              "          document.querySelector('#df-9fbbf274-be0e-441a-91ec-2bf6d07e069d button.colab-df-convert');\n",
              "        buttonEl.style.display =\n",
              "          google.colab.kernel.accessAllowed ? 'block' : 'none';\n",
              "\n",
              "        async function convertToInteractive(key) {\n",
              "          const element = document.querySelector('#df-9fbbf274-be0e-441a-91ec-2bf6d07e069d');\n",
              "          const dataTable =\n",
              "            await google.colab.kernel.invokeFunction('convertToInteractive',\n",
              "                                                     [key], {});\n",
              "          if (!dataTable) return;\n",
              "\n",
              "          const docLinkHtml = 'Like what you see? Visit the ' +\n",
              "            '<a target=\"_blank\" href=https://colab.research.google.com/notebooks/data_table.ipynb>data table notebook</a>'\n",
              "            + ' to learn more about interactive tables.';\n",
              "          element.innerHTML = '';\n",
              "          dataTable['output_type'] = 'display_data';\n",
              "          await google.colab.output.renderOutput(dataTable, element);\n",
              "          const docLink = document.createElement('div');\n",
              "          docLink.innerHTML = docLinkHtml;\n",
              "          element.appendChild(docLink);\n",
              "        }\n",
              "      </script>\n",
              "    </div>\n",
              "  </div>\n",
              "  "
            ],
            "text/plain": [
              "      age     sex     bmi  children smoker     region      charges\n",
              "0      19  female  27.900         0    yes  southwest  16884.92400\n",
              "1      18    male  33.770         1     no  southeast   1725.55230\n",
              "2      28    male  33.000         3     no  southeast   4449.46200\n",
              "3      33    male  22.705         0     no  northwest  21984.47061\n",
              "4      32    male  28.880         0     no  northwest   3866.85520\n",
              "...   ...     ...     ...       ...    ...        ...          ...\n",
              "1333   50    male  30.970         3     no  northwest  10600.54830\n",
              "1334   18  female  31.920         0     no  northeast   2205.98080\n",
              "1335   18  female  36.850         0     no  southeast   1629.83350\n",
              "1336   21  female  25.800         0     no  southwest   2007.94500\n",
              "1337   61  female  29.070         0    yes  northwest  29141.36030\n",
              "\n",
              "[1338 rows x 7 columns]"
            ]
          },
          "execution_count": 2,
          "metadata": {},
          "output_type": "execute_result"
        }
      ],
      "source": [
        "#read data\n",
        "insurance_data = pd.read_csv(\"data/insurance.csv\")\n",
        "insurance_data"
      ]
    },
    {
      "cell_type": "markdown",
      "metadata": {
        "id": "eOmGuzJhPHOA"
      },
      "source": [
        "# **Data Normalizing**"
      ]
    },
    {
      "cell_type": "code",
      "execution_count": null,
      "metadata": {
        "colab": {
          "base_uri": "https://localhost:8080/"
        },
        "id": "2qXRxgUHKIga",
        "outputId": "ea9f0e02-df48-4ab4-afb9-ab0c66d2c943"
      },
      "outputs": [
        {
          "name": "stdout",
          "output_type": "stream",
          "text": [
            "<class 'pandas.core.frame.DataFrame'>\n",
            "RangeIndex: 1338 entries, 0 to 1337\n",
            "Data columns (total 7 columns):\n",
            " #   Column    Non-Null Count  Dtype  \n",
            "---  ------    --------------  -----  \n",
            " 0   age       1338 non-null   int64  \n",
            " 1   sex       1338 non-null   object \n",
            " 2   bmi       1338 non-null   float64\n",
            " 3   children  1338 non-null   int64  \n",
            " 4   smoker    1338 non-null   object \n",
            " 5   region    1338 non-null   object \n",
            " 6   charges   1338 non-null   float64\n",
            "dtypes: float64(2), int64(2), object(3)\n",
            "memory usage: 73.3+ KB\n"
          ]
        }
      ],
      "source": [
        "insurance_data.info()"
      ]
    },
    {
      "cell_type": "code",
      "execution_count": null,
      "metadata": {
        "colab": {
          "base_uri": "https://localhost:8080/",
          "height": 394
        },
        "id": "WgD8nIUGPFhJ",
        "outputId": "85afbdb2-0c86-4bbe-be06-7a087407a4c2"
      },
      "outputs": [
        {
          "data": {
            "text/html": [
              "\n",
              "  <div id=\"df-1186db24-8bb2-4285-bce0-508cedc31720\">\n",
              "    <div class=\"colab-df-container\">\n",
              "      <div>\n",
              "<style scoped>\n",
              "    .dataframe tbody tr th:only-of-type {\n",
              "        vertical-align: middle;\n",
              "    }\n",
              "\n",
              "    .dataframe tbody tr th {\n",
              "        vertical-align: top;\n",
              "    }\n",
              "\n",
              "    .dataframe thead th {\n",
              "        text-align: right;\n",
              "    }\n",
              "</style>\n",
              "<table border=\"1\" class=\"dataframe\">\n",
              "  <thead>\n",
              "    <tr style=\"text-align: right;\">\n",
              "      <th></th>\n",
              "      <th>age</th>\n",
              "      <th>sex</th>\n",
              "      <th>bmi</th>\n",
              "      <th>children</th>\n",
              "      <th>smoker</th>\n",
              "      <th>region</th>\n",
              "      <th>charges</th>\n",
              "    </tr>\n",
              "  </thead>\n",
              "  <tbody>\n",
              "    <tr>\n",
              "      <th>count</th>\n",
              "      <td>1338.000000</td>\n",
              "      <td>1338</td>\n",
              "      <td>1338.000000</td>\n",
              "      <td>1338.000000</td>\n",
              "      <td>1338</td>\n",
              "      <td>1338</td>\n",
              "      <td>1338.000000</td>\n",
              "    </tr>\n",
              "    <tr>\n",
              "      <th>unique</th>\n",
              "      <td>NaN</td>\n",
              "      <td>2</td>\n",
              "      <td>NaN</td>\n",
              "      <td>NaN</td>\n",
              "      <td>2</td>\n",
              "      <td>4</td>\n",
              "      <td>NaN</td>\n",
              "    </tr>\n",
              "    <tr>\n",
              "      <th>top</th>\n",
              "      <td>NaN</td>\n",
              "      <td>male</td>\n",
              "      <td>NaN</td>\n",
              "      <td>NaN</td>\n",
              "      <td>no</td>\n",
              "      <td>southeast</td>\n",
              "      <td>NaN</td>\n",
              "    </tr>\n",
              "    <tr>\n",
              "      <th>freq</th>\n",
              "      <td>NaN</td>\n",
              "      <td>676</td>\n",
              "      <td>NaN</td>\n",
              "      <td>NaN</td>\n",
              "      <td>1064</td>\n",
              "      <td>364</td>\n",
              "      <td>NaN</td>\n",
              "    </tr>\n",
              "    <tr>\n",
              "      <th>mean</th>\n",
              "      <td>39.207025</td>\n",
              "      <td>NaN</td>\n",
              "      <td>30.663397</td>\n",
              "      <td>1.094918</td>\n",
              "      <td>NaN</td>\n",
              "      <td>NaN</td>\n",
              "      <td>13270.422265</td>\n",
              "    </tr>\n",
              "    <tr>\n",
              "      <th>std</th>\n",
              "      <td>14.049960</td>\n",
              "      <td>NaN</td>\n",
              "      <td>6.098187</td>\n",
              "      <td>1.205493</td>\n",
              "      <td>NaN</td>\n",
              "      <td>NaN</td>\n",
              "      <td>12110.011237</td>\n",
              "    </tr>\n",
              "    <tr>\n",
              "      <th>min</th>\n",
              "      <td>18.000000</td>\n",
              "      <td>NaN</td>\n",
              "      <td>15.960000</td>\n",
              "      <td>0.000000</td>\n",
              "      <td>NaN</td>\n",
              "      <td>NaN</td>\n",
              "      <td>1121.873900</td>\n",
              "    </tr>\n",
              "    <tr>\n",
              "      <th>25%</th>\n",
              "      <td>27.000000</td>\n",
              "      <td>NaN</td>\n",
              "      <td>26.296250</td>\n",
              "      <td>0.000000</td>\n",
              "      <td>NaN</td>\n",
              "      <td>NaN</td>\n",
              "      <td>4740.287150</td>\n",
              "    </tr>\n",
              "    <tr>\n",
              "      <th>50%</th>\n",
              "      <td>39.000000</td>\n",
              "      <td>NaN</td>\n",
              "      <td>30.400000</td>\n",
              "      <td>1.000000</td>\n",
              "      <td>NaN</td>\n",
              "      <td>NaN</td>\n",
              "      <td>9382.033000</td>\n",
              "    </tr>\n",
              "    <tr>\n",
              "      <th>75%</th>\n",
              "      <td>51.000000</td>\n",
              "      <td>NaN</td>\n",
              "      <td>34.693750</td>\n",
              "      <td>2.000000</td>\n",
              "      <td>NaN</td>\n",
              "      <td>NaN</td>\n",
              "      <td>16639.912515</td>\n",
              "    </tr>\n",
              "    <tr>\n",
              "      <th>max</th>\n",
              "      <td>64.000000</td>\n",
              "      <td>NaN</td>\n",
              "      <td>53.130000</td>\n",
              "      <td>5.000000</td>\n",
              "      <td>NaN</td>\n",
              "      <td>NaN</td>\n",
              "      <td>63770.428010</td>\n",
              "    </tr>\n",
              "  </tbody>\n",
              "</table>\n",
              "</div>\n",
              "      <button class=\"colab-df-convert\" onclick=\"convertToInteractive('df-1186db24-8bb2-4285-bce0-508cedc31720')\"\n",
              "              title=\"Convert this dataframe to an interactive table.\"\n",
              "              style=\"display:none;\">\n",
              "        \n",
              "  <svg xmlns=\"http://www.w3.org/2000/svg\" height=\"24px\"viewBox=\"0 0 24 24\"\n",
              "       width=\"24px\">\n",
              "    <path d=\"M0 0h24v24H0V0z\" fill=\"none\"/>\n",
              "    <path d=\"M18.56 5.44l.94 2.06.94-2.06 2.06-.94-2.06-.94-.94-2.06-.94 2.06-2.06.94zm-11 1L8.5 8.5l.94-2.06 2.06-.94-2.06-.94L8.5 2.5l-.94 2.06-2.06.94zm10 10l.94 2.06.94-2.06 2.06-.94-2.06-.94-.94-2.06-.94 2.06-2.06.94z\"/><path d=\"M17.41 7.96l-1.37-1.37c-.4-.4-.92-.59-1.43-.59-.52 0-1.04.2-1.43.59L10.3 9.45l-7.72 7.72c-.78.78-.78 2.05 0 2.83L4 21.41c.39.39.9.59 1.41.59.51 0 1.02-.2 1.41-.59l7.78-7.78 2.81-2.81c.8-.78.8-2.07 0-2.86zM5.41 20L4 18.59l7.72-7.72 1.47 1.35L5.41 20z\"/>\n",
              "  </svg>\n",
              "      </button>\n",
              "      \n",
              "  <style>\n",
              "    .colab-df-container {\n",
              "      display:flex;\n",
              "      flex-wrap:wrap;\n",
              "      gap: 12px;\n",
              "    }\n",
              "\n",
              "    .colab-df-convert {\n",
              "      background-color: #E8F0FE;\n",
              "      border: none;\n",
              "      border-radius: 50%;\n",
              "      cursor: pointer;\n",
              "      display: none;\n",
              "      fill: #1967D2;\n",
              "      height: 32px;\n",
              "      padding: 0 0 0 0;\n",
              "      width: 32px;\n",
              "    }\n",
              "\n",
              "    .colab-df-convert:hover {\n",
              "      background-color: #E2EBFA;\n",
              "      box-shadow: 0px 1px 2px rgba(60, 64, 67, 0.3), 0px 1px 3px 1px rgba(60, 64, 67, 0.15);\n",
              "      fill: #174EA6;\n",
              "    }\n",
              "\n",
              "    [theme=dark] .colab-df-convert {\n",
              "      background-color: #3B4455;\n",
              "      fill: #D2E3FC;\n",
              "    }\n",
              "\n",
              "    [theme=dark] .colab-df-convert:hover {\n",
              "      background-color: #434B5C;\n",
              "      box-shadow: 0px 1px 3px 1px rgba(0, 0, 0, 0.15);\n",
              "      filter: drop-shadow(0px 1px 2px rgba(0, 0, 0, 0.3));\n",
              "      fill: #FFFFFF;\n",
              "    }\n",
              "  </style>\n",
              "\n",
              "      <script>\n",
              "        const buttonEl =\n",
              "          document.querySelector('#df-1186db24-8bb2-4285-bce0-508cedc31720 button.colab-df-convert');\n",
              "        buttonEl.style.display =\n",
              "          google.colab.kernel.accessAllowed ? 'block' : 'none';\n",
              "\n",
              "        async function convertToInteractive(key) {\n",
              "          const element = document.querySelector('#df-1186db24-8bb2-4285-bce0-508cedc31720');\n",
              "          const dataTable =\n",
              "            await google.colab.kernel.invokeFunction('convertToInteractive',\n",
              "                                                     [key], {});\n",
              "          if (!dataTable) return;\n",
              "\n",
              "          const docLinkHtml = 'Like what you see? Visit the ' +\n",
              "            '<a target=\"_blank\" href=https://colab.research.google.com/notebooks/data_table.ipynb>data table notebook</a>'\n",
              "            + ' to learn more about interactive tables.';\n",
              "          element.innerHTML = '';\n",
              "          dataTable['output_type'] = 'display_data';\n",
              "          await google.colab.output.renderOutput(dataTable, element);\n",
              "          const docLink = document.createElement('div');\n",
              "          docLink.innerHTML = docLinkHtml;\n",
              "          element.appendChild(docLink);\n",
              "        }\n",
              "      </script>\n",
              "    </div>\n",
              "  </div>\n",
              "  "
            ],
            "text/plain": [
              "                age   sex          bmi     children smoker     region  \\\n",
              "count   1338.000000  1338  1338.000000  1338.000000   1338       1338   \n",
              "unique          NaN     2          NaN          NaN      2          4   \n",
              "top             NaN  male          NaN          NaN     no  southeast   \n",
              "freq            NaN   676          NaN          NaN   1064        364   \n",
              "mean      39.207025   NaN    30.663397     1.094918    NaN        NaN   \n",
              "std       14.049960   NaN     6.098187     1.205493    NaN        NaN   \n",
              "min       18.000000   NaN    15.960000     0.000000    NaN        NaN   \n",
              "25%       27.000000   NaN    26.296250     0.000000    NaN        NaN   \n",
              "50%       39.000000   NaN    30.400000     1.000000    NaN        NaN   \n",
              "75%       51.000000   NaN    34.693750     2.000000    NaN        NaN   \n",
              "max       64.000000   NaN    53.130000     5.000000    NaN        NaN   \n",
              "\n",
              "             charges  \n",
              "count    1338.000000  \n",
              "unique           NaN  \n",
              "top              NaN  \n",
              "freq             NaN  \n",
              "mean    13270.422265  \n",
              "std     12110.011237  \n",
              "min      1121.873900  \n",
              "25%      4740.287150  \n",
              "50%      9382.033000  \n",
              "75%     16639.912515  \n",
              "max     63770.428010  "
            ]
          },
          "execution_count": 4,
          "metadata": {},
          "output_type": "execute_result"
        }
      ],
      "source": [
        "insurance_data.describe(include = 'all')"
      ]
    },
    {
      "cell_type": "code",
      "execution_count": null,
      "metadata": {
        "colab": {
          "base_uri": "https://localhost:8080/"
        },
        "id": "JkoVI41LPPqA",
        "outputId": "2fe39b3b-21a0-4870-a764-c3bccd3a7ab0"
      },
      "outputs": [
        {
          "name": "stdout",
          "output_type": "stream",
          "text": [
            "['female' 'male']\n",
            "['yes' 'no']\n",
            "['southwest' 'southeast' 'northwest' 'northeast']\n"
          ]
        }
      ],
      "source": [
        "print(insurance_data['sex'].unique())\n",
        "print(insurance_data['smoker'].unique())\n",
        "print(insurance_data['region'].unique())"
      ]
    },
    {
      "cell_type": "code",
      "execution_count": null,
      "metadata": {
        "id": "W2QG9jOtPRl0"
      },
      "outputs": [],
      "source": [
        "insurance_data['sex'] = insurance_data['sex'].map({'female':0, 'male':1})\n",
        "insurance_data['smoker'] = insurance_data['smoker'].map({'no':0, 'yes':1})\n",
        "insurance_data['region'] = insurance_data['region'].map({'southwest':1, 'southeast':2,\n",
        "                                     'northwest':3, 'northeast':4})"
      ]
    },
    {
      "cell_type": "code",
      "execution_count": null,
      "metadata": {
        "colab": {
          "base_uri": "https://localhost:8080/",
          "height": 206
        },
        "id": "Wd1UiqVLPTTN",
        "outputId": "07037731-6f5d-4ea2-8ee5-52b4d336b307"
      },
      "outputs": [
        {
          "data": {
            "text/html": [
              "\n",
              "  <div id=\"df-71044bfb-61ea-4df7-b03e-291bb334dfe6\">\n",
              "    <div class=\"colab-df-container\">\n",
              "      <div>\n",
              "<style scoped>\n",
              "    .dataframe tbody tr th:only-of-type {\n",
              "        vertical-align: middle;\n",
              "    }\n",
              "\n",
              "    .dataframe tbody tr th {\n",
              "        vertical-align: top;\n",
              "    }\n",
              "\n",
              "    .dataframe thead th {\n",
              "        text-align: right;\n",
              "    }\n",
              "</style>\n",
              "<table border=\"1\" class=\"dataframe\">\n",
              "  <thead>\n",
              "    <tr style=\"text-align: right;\">\n",
              "      <th></th>\n",
              "      <th>age</th>\n",
              "      <th>sex</th>\n",
              "      <th>bmi</th>\n",
              "      <th>children</th>\n",
              "      <th>smoker</th>\n",
              "      <th>region</th>\n",
              "      <th>charges</th>\n",
              "    </tr>\n",
              "  </thead>\n",
              "  <tbody>\n",
              "    <tr>\n",
              "      <th>0</th>\n",
              "      <td>19</td>\n",
              "      <td>0</td>\n",
              "      <td>27.900</td>\n",
              "      <td>0</td>\n",
              "      <td>1</td>\n",
              "      <td>1</td>\n",
              "      <td>16884.92400</td>\n",
              "    </tr>\n",
              "    <tr>\n",
              "      <th>1</th>\n",
              "      <td>18</td>\n",
              "      <td>1</td>\n",
              "      <td>33.770</td>\n",
              "      <td>1</td>\n",
              "      <td>0</td>\n",
              "      <td>2</td>\n",
              "      <td>1725.55230</td>\n",
              "    </tr>\n",
              "    <tr>\n",
              "      <th>2</th>\n",
              "      <td>28</td>\n",
              "      <td>1</td>\n",
              "      <td>33.000</td>\n",
              "      <td>3</td>\n",
              "      <td>0</td>\n",
              "      <td>2</td>\n",
              "      <td>4449.46200</td>\n",
              "    </tr>\n",
              "    <tr>\n",
              "      <th>3</th>\n",
              "      <td>33</td>\n",
              "      <td>1</td>\n",
              "      <td>22.705</td>\n",
              "      <td>0</td>\n",
              "      <td>0</td>\n",
              "      <td>3</td>\n",
              "      <td>21984.47061</td>\n",
              "    </tr>\n",
              "    <tr>\n",
              "      <th>4</th>\n",
              "      <td>32</td>\n",
              "      <td>1</td>\n",
              "      <td>28.880</td>\n",
              "      <td>0</td>\n",
              "      <td>0</td>\n",
              "      <td>3</td>\n",
              "      <td>3866.85520</td>\n",
              "    </tr>\n",
              "  </tbody>\n",
              "</table>\n",
              "</div>\n",
              "      <button class=\"colab-df-convert\" onclick=\"convertToInteractive('df-71044bfb-61ea-4df7-b03e-291bb334dfe6')\"\n",
              "              title=\"Convert this dataframe to an interactive table.\"\n",
              "              style=\"display:none;\">\n",
              "        \n",
              "  <svg xmlns=\"http://www.w3.org/2000/svg\" height=\"24px\"viewBox=\"0 0 24 24\"\n",
              "       width=\"24px\">\n",
              "    <path d=\"M0 0h24v24H0V0z\" fill=\"none\"/>\n",
              "    <path d=\"M18.56 5.44l.94 2.06.94-2.06 2.06-.94-2.06-.94-.94-2.06-.94 2.06-2.06.94zm-11 1L8.5 8.5l.94-2.06 2.06-.94-2.06-.94L8.5 2.5l-.94 2.06-2.06.94zm10 10l.94 2.06.94-2.06 2.06-.94-2.06-.94-.94-2.06-.94 2.06-2.06.94z\"/><path d=\"M17.41 7.96l-1.37-1.37c-.4-.4-.92-.59-1.43-.59-.52 0-1.04.2-1.43.59L10.3 9.45l-7.72 7.72c-.78.78-.78 2.05 0 2.83L4 21.41c.39.39.9.59 1.41.59.51 0 1.02-.2 1.41-.59l7.78-7.78 2.81-2.81c.8-.78.8-2.07 0-2.86zM5.41 20L4 18.59l7.72-7.72 1.47 1.35L5.41 20z\"/>\n",
              "  </svg>\n",
              "      </button>\n",
              "      \n",
              "  <style>\n",
              "    .colab-df-container {\n",
              "      display:flex;\n",
              "      flex-wrap:wrap;\n",
              "      gap: 12px;\n",
              "    }\n",
              "\n",
              "    .colab-df-convert {\n",
              "      background-color: #E8F0FE;\n",
              "      border: none;\n",
              "      border-radius: 50%;\n",
              "      cursor: pointer;\n",
              "      display: none;\n",
              "      fill: #1967D2;\n",
              "      height: 32px;\n",
              "      padding: 0 0 0 0;\n",
              "      width: 32px;\n",
              "    }\n",
              "\n",
              "    .colab-df-convert:hover {\n",
              "      background-color: #E2EBFA;\n",
              "      box-shadow: 0px 1px 2px rgba(60, 64, 67, 0.3), 0px 1px 3px 1px rgba(60, 64, 67, 0.15);\n",
              "      fill: #174EA6;\n",
              "    }\n",
              "\n",
              "    [theme=dark] .colab-df-convert {\n",
              "      background-color: #3B4455;\n",
              "      fill: #D2E3FC;\n",
              "    }\n",
              "\n",
              "    [theme=dark] .colab-df-convert:hover {\n",
              "      background-color: #434B5C;\n",
              "      box-shadow: 0px 1px 3px 1px rgba(0, 0, 0, 0.15);\n",
              "      filter: drop-shadow(0px 1px 2px rgba(0, 0, 0, 0.3));\n",
              "      fill: #FFFFFF;\n",
              "    }\n",
              "  </style>\n",
              "\n",
              "      <script>\n",
              "        const buttonEl =\n",
              "          document.querySelector('#df-71044bfb-61ea-4df7-b03e-291bb334dfe6 button.colab-df-convert');\n",
              "        buttonEl.style.display =\n",
              "          google.colab.kernel.accessAllowed ? 'block' : 'none';\n",
              "\n",
              "        async function convertToInteractive(key) {\n",
              "          const element = document.querySelector('#df-71044bfb-61ea-4df7-b03e-291bb334dfe6');\n",
              "          const dataTable =\n",
              "            await google.colab.kernel.invokeFunction('convertToInteractive',\n",
              "                                                     [key], {});\n",
              "          if (!dataTable) return;\n",
              "\n",
              "          const docLinkHtml = 'Like what you see? Visit the ' +\n",
              "            '<a target=\"_blank\" href=https://colab.research.google.com/notebooks/data_table.ipynb>data table notebook</a>'\n",
              "            + ' to learn more about interactive tables.';\n",
              "          element.innerHTML = '';\n",
              "          dataTable['output_type'] = 'display_data';\n",
              "          await google.colab.output.renderOutput(dataTable, element);\n",
              "          const docLink = document.createElement('div');\n",
              "          docLink.innerHTML = docLinkHtml;\n",
              "          element.appendChild(docLink);\n",
              "        }\n",
              "      </script>\n",
              "    </div>\n",
              "  </div>\n",
              "  "
            ],
            "text/plain": [
              "   age  sex     bmi  children  smoker  region      charges\n",
              "0   19    0  27.900         0       1       1  16884.92400\n",
              "1   18    1  33.770         1       0       2   1725.55230\n",
              "2   28    1  33.000         3       0       2   4449.46200\n",
              "3   33    1  22.705         0       0       3  21984.47061\n",
              "4   32    1  28.880         0       0       3   3866.85520"
            ]
          },
          "execution_count": 7,
          "metadata": {},
          "output_type": "execute_result"
        }
      ],
      "source": [
        "insurance_data.head()"
      ]
    },
    {
      "cell_type": "code",
      "execution_count": null,
      "metadata": {
        "colab": {
          "base_uri": "https://localhost:8080/"
        },
        "id": "Ij_2PmvvPVgz",
        "outputId": "7ad98806-1482-4209-fc3d-b99bf1d6d77c"
      },
      "outputs": [
        {
          "data": {
            "text/plain": [
              "Index(['age', 'sex', 'bmi', 'children', 'smoker', 'region', 'charges'], dtype='object')"
            ]
          },
          "execution_count": 8,
          "metadata": {},
          "output_type": "execute_result"
        }
      ],
      "source": [
        "insurance_data.columns"
      ]
    },
    {
      "cell_type": "markdown",
      "metadata": {
        "id": "77FFwwwYRgIN"
      },
      "source": [
        "# **Model Building**"
      ]
    },
    {
      "cell_type": "code",
      "execution_count": null,
      "metadata": {
        "colab": {
          "base_uri": "https://localhost:8080/",
          "height": 432
        },
        "id": "tQifaBN7PXXs",
        "outputId": "0d00952d-291f-4f6a-8540-5f0992363a0a"
      },
      "outputs": [
        {
          "data": {
            "image/png": "[encoded data removed]",
            "text/plain": [
              "<Figure size 1008x504 with 2 Axes>"
            ]
          },
          "metadata": {
            "needs_background": "light"
          },
          "output_type": "display_data"
        }
      ],
      "source": [
        "plt.figure(figsize=(14, 7))\n",
        "\n",
        "corr_matrix = insurance_data.corr()\n",
        "\n",
        "sns.heatmap(corr_matrix, annot=True)\n",
        "\n",
        "plt.show()"
      ]
    },
    {
      "cell_type": "code",
      "execution_count": null,
      "metadata": {
        "id": "9G3lU74PPY1c"
      },
      "outputs": [],
      "source": [
        "# split dataset\n",
        "X = insurance_data.drop(['charges'], axis = 1)\n",
        "y = insurance_data['charges']\n",
        "X_train, X_test, y_train, y_test = train_test_split(X, y, test_size = 0.2, random_state = 27)"
      ]
    },
    {
      "cell_type": "code",
      "execution_count": null,
      "metadata": {
        "colab": {
          "base_uri": "https://localhost:8080/",
          "height": 74
        },
        "id": "lah4GQ1GPb-V",
        "outputId": "1b5682bb-a459-409c-ab18-5e49f24b9edd"
      },
      "outputs": [
        {
          "data": {
            "text/html": [
              "<style>#sk-container-id-1 {color: black;background-color: white;}#sk-container-id-1 pre{padding: 0;}#sk-container-id-1 div.sk-toggleable {background-color: white;}#sk-container-id-1 label.sk-toggleable__label {cursor: pointer;display: block;width: 100%;margin-bottom: 0;padding: 0.3em;box-sizing: border-box;text-align: center;}#sk-container-id-1 label.sk-toggleable__label-arrow:before {content: \"▸\";float: left;margin-right: 0.25em;color: #696969;}#sk-container-id-1 label.sk-toggleable__label-arrow:hover:before {color: black;}#sk-container-id-1 div.sk-estimator:hover label.sk-toggleable__label-arrow:before {color: black;}#sk-container-id-1 div.sk-toggleable__content {max-height: 0;max-width: 0;overflow: hidden;text-align: left;background-color: #f0f8ff;}#sk-container-id-1 div.sk-toggleable__content pre {margin: 0.2em;color: black;border-radius: 0.25em;background-color: #f0f8ff;}#sk-container-id-1 input.sk-toggleable__control:checked~div.sk-toggleable__content {max-height: 200px;max-width: 100%;overflow: auto;}#sk-container-id-1 input.sk-toggleable__control:checked~label.sk-toggleable__label-arrow:before {content: \"▾\";}#sk-container-id-1 div.sk-estimator input.sk-toggleable__control:checked~label.sk-toggleable__label {background-color: #d4ebff;}#sk-container-id-1 div.sk-label input.sk-toggleable__control:checked~label.sk-toggleable__label {background-color: #d4ebff;}#sk-container-id-1 input.sk-hidden--visually {border: 0;clip: rect(1px 1px 1px 1px);clip: rect(1px, 1px, 1px, 1px);height: 1px;margin: -1px;overflow: hidden;padding: 0;position: absolute;width: 1px;}#sk-container-id-1 div.sk-estimator {font-family: monospace;background-color: #f0f8ff;border: 1px dotted black;border-radius: 0.25em;box-sizing: border-box;margin-bottom: 0.5em;}#sk-container-id-1 div.sk-estimator:hover {background-color: #d4ebff;}#sk-container-id-1 div.sk-parallel-item::after {content: \"\";width: 100%;border-bottom: 1px solid gray;flex-grow: 1;}#sk-container-id-1 div.sk-label:hover label.sk-toggleable__label {background-color: #d4ebff;}#sk-container-id-1 div.sk-serial::before {content: \"\";position: absolute;border-left: 1px solid gray;box-sizing: border-box;top: 0;bottom: 0;left: 50%;z-index: 0;}#sk-container-id-1 div.sk-serial {display: flex;flex-direction: column;align-items: center;background-color: white;padding-right: 0.2em;padding-left: 0.2em;position: relative;}#sk-container-id-1 div.sk-item {position: relative;z-index: 1;}#sk-container-id-1 div.sk-parallel {display: flex;align-items: stretch;justify-content: center;background-color: white;position: relative;}#sk-container-id-1 div.sk-item::before, #sk-container-id-1 div.sk-parallel-item::before {content: \"\";position: absolute;border-left: 1px solid gray;box-sizing: border-box;top: 0;bottom: 0;left: 50%;z-index: -1;}#sk-container-id-1 div.sk-parallel-item {display: flex;flex-direction: column;z-index: 1;position: relative;background-color: white;}#sk-container-id-1 div.sk-parallel-item:first-child::after {align-self: flex-end;width: 50%;}#sk-container-id-1 div.sk-parallel-item:last-child::after {align-self: flex-start;width: 50%;}#sk-container-id-1 div.sk-parallel-item:only-child::after {width: 0;}#sk-container-id-1 div.sk-dashed-wrapped {border: 1px dashed gray;margin: 0 0.4em 0.5em 0.4em;box-sizing: border-box;padding-bottom: 0.4em;background-color: white;}#sk-container-id-1 div.sk-label label {font-family: monospace;font-weight: bold;display: inline-block;line-height: 1.2em;}#sk-container-id-1 div.sk-label-container {text-align: center;}#sk-container-id-1 div.sk-container {/* jupyter's `normalize.less` sets `[hidden] { display: none; }` but bootstrap.min.css set `[hidden] { display: none !important; }` so we also need the `!important` here to be able to override the default hidden behavior on the sphinx rendered scikit-learn.org. See: https://github.com/scikit-learn/scikit-learn/issues/21755 */display: inline-block !important;position: relative;}#sk-container-id-1 div.sk-text-repr-fallback {display: none;}</style><div id=\"sk-container-id-1\" class=\"sk-top-container\"><div class=\"sk-text-repr-fallback\"><pre>LinearRegression()</pre><b>In a Jupyter environment, please rerun this cell to show the HTML representation or trust the notebook. <br />On GitHub, the HTML representation is unable to render, please try loading this page with nbviewer.org.</b></div><div class=\"sk-container\" hidden><div class=\"sk-item\"><div class=\"sk-estimator sk-toggleable\"><input class=\"sk-toggleable__control sk-hidden--visually\" id=\"sk-estimator-id-1\" type=\"checkbox\" checked><label for=\"sk-estimator-id-1\" class=\"sk-toggleable__label sk-toggleable__label-arrow\">LinearRegression</label><div class=\"sk-toggleable__content\"><pre>LinearRegression()</pre></div></div></div></div></div>"
            ],
            "text/plain": [
              "LinearRegression()"
            ]
          },
          "execution_count": 12,
          "metadata": {},
          "output_type": "execute_result"
        }
      ],
      "source": [
        "# fit data to model\n",
        "lr = LinearRegression()\n",
        "lr.fit(X_train, y_train)"
      ]
    },
    {
      "cell_type": "code",
      "execution_count": null,
      "metadata": {
        "id": "kIlv8PatPda-"
      },
      "outputs": [],
      "source": [
        "y_pred = lr.predict(X_test)"
      ]
    },
    {
      "cell_type": "markdown",
      "metadata": {
        "id": "W-0mcv5xPlB-"
      },
      "source": [
        "# **Model Evaluate**"
      ]
    },
    {
      "cell_type": "code",
      "execution_count": null,
      "metadata": {
        "colab": {
          "base_uri": "https://localhost:8080/",
          "height": 423
        },
        "id": "RrR1j4w2PnWf",
        "outputId": "2032e3af-1043-4bee-a45a-bd4d815ba40d"
      },
      "outputs": [
        {
          "data": {
            "text/html": [
              "\n",
              "  <div id=\"df-60d3f5c1-a40b-4666-887b-cfbe52a8a33f\">\n",
              "    <div class=\"colab-df-container\">\n",
              "      <div>\n",
              "<style scoped>\n",
              "    .dataframe tbody tr th:only-of-type {\n",
              "        vertical-align: middle;\n",
              "    }\n",
              "\n",
              "    .dataframe tbody tr th {\n",
              "        vertical-align: top;\n",
              "    }\n",
              "\n",
              "    .dataframe thead th {\n",
              "        text-align: right;\n",
              "    }\n",
              "</style>\n",
              "<table border=\"1\" class=\"dataframe\">\n",
              "  <thead>\n",
              "    <tr style=\"text-align: right;\">\n",
              "      <th></th>\n",
              "      <th>Actual</th>\n",
              "      <th>Lr</th>\n",
              "    </tr>\n",
              "  </thead>\n",
              "  <tbody>\n",
              "    <tr>\n",
              "      <th>1034</th>\n",
              "      <td>12950.07120</td>\n",
              "      <td>15890.374720</td>\n",
              "    </tr>\n",
              "    <tr>\n",
              "      <th>1206</th>\n",
              "      <td>36910.60803</td>\n",
              "      <td>14650.826493</td>\n",
              "    </tr>\n",
              "    <tr>\n",
              "      <th>519</th>\n",
              "      <td>3857.75925</td>\n",
              "      <td>6211.315526</td>\n",
              "    </tr>\n",
              "    <tr>\n",
              "      <th>174</th>\n",
              "      <td>2855.43755</td>\n",
              "      <td>5228.805905</td>\n",
              "    </tr>\n",
              "    <tr>\n",
              "      <th>71</th>\n",
              "      <td>6799.45800</td>\n",
              "      <td>7333.758809</td>\n",
              "    </tr>\n",
              "    <tr>\n",
              "      <th>...</th>\n",
              "      <td>...</td>\n",
              "      <td>...</td>\n",
              "    </tr>\n",
              "    <tr>\n",
              "      <th>101</th>\n",
              "      <td>3645.08940</td>\n",
              "      <td>4179.696526</td>\n",
              "    </tr>\n",
              "    <tr>\n",
              "      <th>1262</th>\n",
              "      <td>6770.19250</td>\n",
              "      <td>7832.991788</td>\n",
              "    </tr>\n",
              "    <tr>\n",
              "      <th>1178</th>\n",
              "      <td>2899.48935</td>\n",
              "      <td>5754.445230</td>\n",
              "    </tr>\n",
              "    <tr>\n",
              "      <th>560</th>\n",
              "      <td>9193.83850</td>\n",
              "      <td>7070.147248</td>\n",
              "    </tr>\n",
              "    <tr>\n",
              "      <th>590</th>\n",
              "      <td>11842.44200</td>\n",
              "      <td>11730.862184</td>\n",
              "    </tr>\n",
              "  </tbody>\n",
              "</table>\n",
              "<p>268 rows × 2 columns</p>\n",
              "</div>\n",
              "      <button class=\"colab-df-convert\" onclick=\"convertToInteractive('df-60d3f5c1-a40b-4666-887b-cfbe52a8a33f')\"\n",
              "              title=\"Convert this dataframe to an interactive table.\"\n",
              "              style=\"display:none;\">\n",
              "        \n",
              "  <svg xmlns=\"http://www.w3.org/2000/svg\" height=\"24px\"viewBox=\"0 0 24 24\"\n",
              "       width=\"24px\">\n",
              "    <path d=\"M0 0h24v24H0V0z\" fill=\"none\"/>\n",
              "    <path d=\"M18.56 5.44l.94 2.06.94-2.06 2.06-.94-2.06-.94-.94-2.06-.94 2.06-2.06.94zm-11 1L8.5 8.5l.94-2.06 2.06-.94-2.06-.94L8.5 2.5l-.94 2.06-2.06.94zm10 10l.94 2.06.94-2.06 2.06-.94-2.06-.94-.94-2.06-.94 2.06-2.06.94z\"/><path d=\"M17.41 7.96l-1.37-1.37c-.4-.4-.92-.59-1.43-.59-.52 0-1.04.2-1.43.59L10.3 9.45l-7.72 7.72c-.78.78-.78 2.05 0 2.83L4 21.41c.39.39.9.59 1.41.59.51 0 1.02-.2 1.41-.59l7.78-7.78 2.81-2.81c.8-.78.8-2.07 0-2.86zM5.41 20L4 18.59l7.72-7.72 1.47 1.35L5.41 20z\"/>\n",
              "  </svg>\n",
              "      </button>\n",
              "      \n",
              "  <style>\n",
              "    .colab-df-container {\n",
              "      display:flex;\n",
              "      flex-wrap:wrap;\n",
              "      gap: 12px;\n",
              "    }\n",
              "\n",
              "    .colab-df-convert {\n",
              "      background-color: #E8F0FE;\n",
              "      border: none;\n",
              "      border-radius: 50%;\n",
              "      cursor: pointer;\n",
              "      display: none;\n",
              "      fill: #1967D2;\n",
              "      height: 32px;\n",
              "      padding: 0 0 0 0;\n",
              "      width: 32px;\n",
              "    }\n",
              "\n",
              "    .colab-df-convert:hover {\n",
              "      background-color: #E2EBFA;\n",
              "      box-shadow: 0px 1px 2px rgba(60, 64, 67, 0.3), 0px 1px 3px 1px rgba(60, 64, 67, 0.15);\n",
              "      fill: #174EA6;\n",
              "    }\n",
              "\n",
              "    [theme=dark] .colab-df-convert {\n",
              "      background-color: #3B4455;\n",
              "      fill: #D2E3FC;\n",
              "    }\n",
              "\n",
              "    [theme=dark] .colab-df-convert:hover {\n",
              "      background-color: #434B5C;\n",
              "      box-shadow: 0px 1px 3px 1px rgba(0, 0, 0, 0.15);\n",
              "      filter: drop-shadow(0px 1px 2px rgba(0, 0, 0, 0.3));\n",
              "      fill: #FFFFFF;\n",
              "    }\n",
              "  </style>\n",
              "\n",
              "      <script>\n",
              "        const buttonEl =\n",
              "          document.querySelector('#df-60d3f5c1-a40b-4666-887b-cfbe52a8a33f button.colab-df-convert');\n",
              "        buttonEl.style.display =\n",
              "          google.colab.kernel.accessAllowed ? 'block' : 'none';\n",
              "\n",
              "        async function convertToInteractive(key) {\n",
              "          const element = document.querySelector('#df-60d3f5c1-a40b-4666-887b-cfbe52a8a33f');\n",
              "          const dataTable =\n",
              "            await google.colab.kernel.invokeFunction('convertToInteractive',\n",
              "                                                     [key], {});\n",
              "          if (!dataTable) return;\n",
              "\n",
              "          const docLinkHtml = 'Like what you see? Visit the ' +\n",
              "            '<a target=\"_blank\" href=https://colab.research.google.com/notebooks/data_table.ipynb>data table notebook</a>'\n",
              "            + ' to learn more about interactive tables.';\n",
              "          element.innerHTML = '';\n",
              "          dataTable['output_type'] = 'display_data';\n",
              "          await google.colab.output.renderOutput(dataTable, element);\n",
              "          const docLink = document.createElement('div');\n",
              "          docLink.innerHTML = docLinkHtml;\n",
              "          element.appendChild(docLink);\n",
              "        }\n",
              "      </script>\n",
              "    </div>\n",
              "  </div>\n",
              "  "
            ],
            "text/plain": [
              "           Actual            Lr\n",
              "1034  12950.07120  15890.374720\n",
              "1206  36910.60803  14650.826493\n",
              "519    3857.75925   6211.315526\n",
              "174    2855.43755   5228.805905\n",
              "71     6799.45800   7333.758809\n",
              "...           ...           ...\n",
              "101    3645.08940   4179.696526\n",
              "1262   6770.19250   7832.991788\n",
              "1178   2899.48935   5754.445230\n",
              "560    9193.83850   7070.147248\n",
              "590   11842.44200  11730.862184\n",
              "\n",
              "[268 rows x 2 columns]"
            ]
          },
          "execution_count": 14,
          "metadata": {},
          "output_type": "execute_result"
        }
      ],
      "source": [
        "df1 = pd.DataFrame({'Actual':y_test, 'Lr':y_pred})\n",
        "df1"
      ]
    },
    {
      "cell_type": "code",
      "execution_count": null,
      "metadata": {
        "colab": {
          "base_uri": "https://localhost:8080/"
        },
        "id": "eQO5oqFQPqC-",
        "outputId": "49f50630-f3db-45ed-e688-bf3544573353"
      },
      "outputs": [
        {
          "name": "stdout",
          "output_type": "stream",
          "text": [
            "Percent of r2_score is 73.15462085856305%\n",
            "Mean Squared Error is 39515584.74227572\n",
            "Root Mean Squared Error is 6286.142278239948\n"
          ]
        }
      ],
      "source": [
        "r2 = metrics.r2_score(y_test, y_pred)   # linear regression\n",
        "r2 = r2*100\n",
        "\n",
        "mse = metrics.mean_squared_error(y_test, y_pred)   # linear regression\n",
        "\n",
        "rmse = np.sqrt(mse)\n",
        "\n",
        "\n",
        "print(f'Percent of r2_score is {r2}%')\n",
        "print(f'Mean Squared Error is {mse}')\n",
        "print(f'Root Mean Squared Error is {rmse}')"
      ]
    },
    {
      "cell_type": "markdown",
      "metadata": {
        "id": "PLRA05N8dyQ_"
      },
      "source": [
        "# **MSE without Sklearn**"
      ]
    },
    {
      "cell_type": "markdown",
      "metadata": {
        "id": "z4XqHwghLbSg"
      },
      "source": [
        "![image.png](data:image/png;base64,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)"
      ]
    },
    {
      "cell_type": "code",
      "execution_count": null,
      "metadata": {
        "colab": {
          "base_uri": "https://localhost:8080/"
        },
        "id": "TropE02sd3Hp",
        "outputId": "3a80a964-dc67-4647-f5c8-d6d5c1ee4235"
      },
      "outputs": [
        {
          "name": "stdout",
          "output_type": "stream",
          "text": [
            "Mean Squared Error without sklearn: 39515584.74227572\n",
            "Root Mean Squared Error without sklearn: 6286.142278239948\n"
          ]
        }
      ],
      "source": [
        "df1['Subtract'] = df1['Actual'] - df1['Lr']\n",
        "mse_y = 0\n",
        "for i in df1['Subtract']:\n",
        "  mse_y += i**2\n",
        "mse = mse_y/len(df1['Subtract'])\n",
        "print('Mean Squared Error without sklearn:',mse)\n",
        "\n",
        "rmse = np.sqrt(mse)\n",
        "print('Root Mean Squared Error without sklearn:',rmse)"
      ]
    },
    {
      "cell_type": "markdown",
      "metadata": {
        "id": "rlnIHcyCpwEX"
      },
      "source": [
        "**Visual**"
      ]
    },
    {
      "cell_type": "code",
      "execution_count": null,
      "metadata": {
        "id": "k66VBZZKQL0m"
      },
      "outputs": [],
      "source": [
        "min_value = df1['Actual'].min()\n",
        "max_value = df1['Actual'].max()"
      ]
    },
    {
      "cell_type": "code",
      "execution_count": null,
      "metadata": {
        "colab": {
          "base_uri": "https://localhost:8080/",
          "height": 353
        },
        "id": "GohEjAxYQPVo",
        "outputId": "a4810ff0-2be3-4465-cd6d-bd52ab51e1be"
      },
      "outputs": [
        {
          "data": {
            "image/png": "[encoded data removed]",
            "text/plain": [
              "<Figure size 720x360 with 1 Axes>"
            ]
          },
          "metadata": {
            "needs_background": "light"
          },
          "output_type": "display_data"
        }
      ],
      "source": [
        "plt.figure(figsize=(10, 5))\n",
        "plt.scatter(df1['Lr'], df1['Actual'])\n",
        "plt.plot([min_value, max_value], [min_value, max_value], linestyle='--', color='red')\n",
        "# Add labels and title\n",
        "plt.ylabel(\"Actual\", fontsize = 12)\n",
        "plt.xlabel(\"Lr Prediction\", fontsize =12)\n",
        "plt.title(\"Actual vs Lr Prediction\")\n",
        "# Show the plot\n",
        "plt.grid(True, color = 'green')\n",
        "plt.show()\n"
      ]
    },
    {
      "cell_type": "markdown",
      "metadata": {
        "id": "V_U_TuRQQtLb"
      },
      "source": [
        "**Predict with new data**"
      ]
    },
    {
      "cell_type": "code",
      "execution_count": null,
      "metadata": {
        "colab": {
          "base_uri": "https://localhost:8080/"
        },
        "id": "q2h57HqxQRQY",
        "outputId": "bdf7c908-9744-4b8d-bcf1-749f82345c17"
      },
      "outputs": [
        {
          "name": "stdout",
          "output_type": "stream",
          "text": [
            "   age  sex   bmi  children  smoker  region\n",
            "0   40    1  40.3         4       1       2\n"
          ]
        }
      ],
      "source": [
        "new_data = {'age':40,\n",
        "       'sex':1,\n",
        "       'bmi':40.30,\n",
        "       'children':4,\n",
        "       'smoker':1,\n",
        "       'region':2}\n",
        "\n",
        "new_patient = pd.DataFrame(new_data, index = [0])\n",
        "print(new_patient)"
      ]
    },
    {
      "cell_type": "code",
      "execution_count": null,
      "metadata": {
        "colab": {
          "base_uri": "https://localhost:8080/"
        },
        "id": "UfDftot5QS93",
        "outputId": "09c3c94a-2a5d-4499-b94f-edc2c0e011ae"
      },
      "outputs": [
        {
          "name": "stdout",
          "output_type": "stream",
          "text": [
            "Charges of new patient is: 36504.85345603181\n"
          ]
        }
      ],
      "source": [
        "new_patient_pred1 = lr.predict(new_patient)\n",
        "print('Charges of new patient is:',new_patient_pred1[0])"
      ]
    },
    {
      "cell_type": "markdown",
      "metadata": {
        "id": "PASnzNlxzXII"
      },
      "source": [
        "# **Gradient Descent**"
      ]
    },
    {
      "cell_type": "code",
      "execution_count": null,
      "metadata": {
        "colab": {
          "base_uri": "https://localhost:8080/"
        },
        "id": "takXZpUvzd2b",
        "outputId": "7428600e-b2d6-444f-9cec-5af2b14ce859"
      },
      "outputs": [
        {
          "name": "stdout",
          "output_type": "stream",
          "text": [
            "Iteration 0, Loss: 173691739.69887197\n",
            "Iteration 10000, Loss: 87076165.02418193\n",
            "Iteration 20000, Loss: 64510528.15190206\n",
            "Iteration 30000, Loss: 52631031.55280297\n",
            "Iteration 40000, Loss: 46299535.38444484\n",
            "Iteration 50000, Loss: 42867289.72701676\n",
            "Iteration 60000, Loss: 40959647.935210854\n",
            "Iteration 70000, Loss: 39859671.42884395\n",
            "Iteration 80000, Loss: 39191937.75227088\n",
            "Iteration 90000, Loss: 38759107.770476\n",
            "Iteration 100000, Loss: 38456994.84463526\n",
            "Iteration 110000, Loss: 38230260.97575514\n",
            "Iteration 120000, Loss: 38049243.37588861\n",
            "Iteration 130000, Loss: 37897809.48892378\n",
            "Iteration 140000, Loss: 37766982.03289387\n",
            "Weights: [-6366.4741666    231.70211542  -374.20092368   194.35506468\n",
            "   373.81236171 23419.06755784  -105.55489179]\n"
          ]
        }
      ],
      "source": [
        "# Define the learning rate and number of iterations for gradient descent\n",
        "alpha = 0.0001\n",
        "num_iters = 150000\n",
        "\n",
        "X = insurance_data.drop('charges', axis=1)\n",
        "Y = insurance_data['charges']\n",
        "\n",
        "# Add a column of ones to X to represent the bias term\n",
        "X = np.hstack((np.ones((X.shape[0], 1)), X))\n",
        "\n",
        "# Initialize the weights for the linear regression model with small random values\n",
        "weights = np.random.randn(X.shape[1]) * 0.01\n",
        "\n",
        "# Define the mean squared error loss function\n",
        "def mse_loss(X, Y, weights):\n",
        "    predictions = np.dot(X, weights)\n",
        "    errors = Y - predictions\n",
        "    squared_errors = errors ** 2\n",
        "    return np.mean(squared_errors)\n",
        "\n",
        "# Define the gradient of the mean squared error loss function\n",
        "def mse_grad(X, Y, weights):\n",
        "    predictions = np.dot(X, weights)\n",
        "    errors = Y - predictions\n",
        "    grad = -2 * np.mean(errors.values.reshape(-1, 1) * X, axis=0)\n",
        "    return grad\n",
        "\n",
        "# Perform gradient descent to optimize the weights\n",
        "for i in range(num_iters):\n",
        "    # Calculate the gradient of the loss function\n",
        "    grad = mse_grad(X, Y, weights)\n",
        "\n",
        "    # Update the weights using the gradient and learning rate\n",
        "    weights -= alpha * grad\n",
        "\n",
        "    # Print the current loss every 1000 iterations\n",
        "    if i % 10000 == 0:\n",
        "        print(\"Iteration {}, Loss: {}\".format(i, mse_loss(X, Y, weights)))\n",
        "print(\"Weights: {}\".format(weights))\n"
      ]
    },
    {
      "cell_type": "markdown",
      "metadata": {
        "id": "JAMq0LdJQkSr"
      },
      "source": [
        "# **Simple regression model**"
      ]
    },
    {
      "cell_type": "code",
      "execution_count": null,
      "metadata": {
        "colab": {
          "base_uri": "https://localhost:8080/"
        },
        "id": "vDpxCpCvQVJo",
        "outputId": "e3e0d5a3-20e1-48ec-8e3a-d2eef23473bb"
      },
      "outputs": [
        {
          "name": "stdout",
          "output_type": "stream",
          "text": [
            "Percent of r2_score is 57.362143871427484%\n",
            "Mean Squared Error is 62761632.39121168\n",
            "Root Mean Squared Error is 7922.223954876034\n"
          ]
        }
      ],
      "source": [
        "X = insurance_data.drop(['charges','children','region','sex','age','bmi'], axis = 1)\n",
        "y = insurance_data['charges']\n",
        "\n",
        "#train test split\n",
        "X_train, X_test, y_train, y_test = train_test_split(X, y, test_size = 0.2, random_state = 27)\n",
        "\n",
        "#use and fit data to model\n",
        "lr = LinearRegression()\n",
        "lr.fit(X_train, y_train)\n",
        "\n",
        "#predict\n",
        "y_pred = lr.predict(X_test)\n",
        "\n",
        "r2 = metrics.r2_score(y_test, y_pred)   # linear regression\n",
        "r2 = r2*100\n",
        "\n",
        "mse = metrics.mean_squared_error(y_test, y_pred)   # linear regression\n",
        "\n",
        "rmse = np.sqrt(mse)\n",
        "\n",
        "\n",
        "print(f'Percent of r2_score is {r2}%')\n",
        "print(f'Mean Squared Error is {mse}')\n",
        "print(f'Root Mean Squared Error is {rmse}')"
      ]
    },
    {
      "cell_type": "code",
      "execution_count": null,
      "metadata": {
        "id": "Ug5skhaaDgjT"
      },
      "outputs": [],
      "source": [
        "df2 = pd.DataFrame({'Actual':y_test, 'Lr':y_pred})"
      ]
    },
    {
      "cell_type": "markdown",
      "metadata": {
        "id": "CSEQ3xU9QZve"
      },
      "source": [
        "**Check with the input in the previous example**"
      ]
    },
    {
      "cell_type": "code",
      "execution_count": null,
      "metadata": {
        "colab": {
          "base_uri": "https://localhost:8080/"
        },
        "id": "AXaUsSE0QZG2",
        "outputId": "d415f4bb-e2ca-4e14-f286-5a2b1ae67ef4"
      },
      "outputs": [
        {
          "name": "stdout",
          "output_type": "stream",
          "text": [
            "Charges of new patient is: 32105.99597235294\n"
          ]
        }
      ],
      "source": [
        "new_data = {'smoker':1}\n",
        "\n",
        "new_patient = pd.DataFrame(new_data, index = [0])\n",
        "new_patient_pred2 = lr.predict(new_patient)\n",
        "print('Charges of new patient is:',new_patient_pred2[0])"
      ]
    },
    {
      "cell_type": "markdown",
      "metadata": {
        "id": "OgyvAX7FQ3oA"
      },
      "source": [
        "# **Visualization to compare Multi and Simple LR**"
      ]
    },
    {
      "cell_type": "code",
      "execution_count": null,
      "metadata": {
        "colab": {
          "base_uri": "https://localhost:8080/",
          "height": 637
        },
        "id": "fUr-rO40Q1-a",
        "outputId": "ed39c423-26e8-4ebd-e799-fba348b892fc"
      },
      "outputs": [
        {
          "data": {
            "image/png": "[encoded data removed]",
            "text/plain": [
              "<Figure size 1656x936 with 4 Axes>"
            ]
          },
          "metadata": {
            "needs_background": "light"
          },
          "output_type": "display_data"
        }
      ],
      "source": [
        "fig , ((ax1,ax2),(ax3,ax4)) = plt.subplots(nrows = 2, ncols = 2, figsize = (23,13))\n",
        "\n",
        "# creat chart\n",
        "ax1.scatter(df1['Lr'], df1['Actual'])\n",
        "ax1.plot([min_value, max_value], [min_value, max_value], linestyle='--', color='red')\n",
        "\n",
        "ax2.scatter(df2['Lr'], df2['Actual'])\n",
        "ax2.plot([min_value, max_value], [min_value, max_value], linestyle='--', color='red')\n",
        "\n",
        "x3 = ['Multi - LR','Simple - LR']\n",
        "y3 = [73,57]\n",
        "ax3.bar(x3,y3, width = 0.5, color = '#F7744A')\n",
        "\n",
        "x4 = ['Multi - LR','Simple - LR']\n",
        "y4 = [36504.853456031815,32105.99597235295]\n",
        "ax4.bar(x4,y4, width = 0.5, color = 'pink')\n",
        "\n",
        "#set label\n",
        "ax1.set_ylabel(\"Actual\", fontsize = 12)\n",
        "ax1.set_xlabel(\"Lr Prediction\", fontsize =12)\n",
        "ax1.set_title(\"Actual vs Lr Prediction - Multi Variables\")\n",
        "\n",
        "ax2.set_ylabel(\"Actual\", fontsize = 12)\n",
        "ax2.set_xlabel(\"Lr Prediction\", fontsize =12)\n",
        "ax2.set_title(\"Actual vs Lr Prediction - Simple\")\n",
        "\n",
        "ax3.set_title(\"Compare R2 score between Multi and Simple LR\")\n",
        "\n",
        "ax4.set_title('Compare the prediction charges of new patient between Multi and Simple LR')\n",
        "\n",
        "# css chart\n",
        "ax1.grid(True, color = 'green')\n",
        "\n",
        "ax2.grid(True, color = 'green')"
      ]
    },
    {
      "cell_type": "markdown",
      "metadata": {
        "id": "CMZeaHNQRBQx"
      },
      "source": [
        "# **Not use sklearn**"
      ]
    },
    {
      "cell_type": "markdown",
      "metadata": {
        "id": "PaE58H4qLGPC"
      },
      "source": [
        "![image.png](data:image/png;base64,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)"
      ]
    },
    {
      "cell_type": "markdown",
      "metadata": {
        "id": "dlz5X-v4Lxm8"
      },
      "source": [
        "Trong toán học của hồi quy tuyến tính, \"Sxx\" đề cập đến tổng bình phương của sự khác biệt giữa mỗi giá trị x với giá trị trung bình của x. \"Sxy\" là tổng tích vô hướng của sự khác biệt giữa mỗi giá trị x và giá trị trung bình của x nhân với sự khác biệt tương ứng giữa mỗi giá trị y và giá trị trung bình của y. Đây là hai thuật ngữ quan trọng trong hồi quy tuyến tính.\n",
        "\n",
        "Cụ thể, công thức cho độ dốc của đường hồi quy (b) được tính như sau:\n",
        "\n",
        "b = Sxy / Sxx\n",
        "\n",
        " <=> b = Σ((xi - x_mean) * (yi - y_mean)) / Σ(xi - x_mean)^2"
      ]
    },
    {
      "cell_type": "code",
      "execution_count": null,
      "metadata": {
        "colab": {
          "base_uri": "https://localhost:8080/"
        },
        "id": "uxC1j2BuRHFp",
        "outputId": "b7789262-97a2-49d8-f77c-ce7eaba74740"
      },
      "outputs": [
        {
          "name": "stdout",
          "output_type": "stream",
          "text": [
            "217.88938714499642\n"
          ]
        }
      ],
      "source": [
        "#Calculated b = bias = intercept\n",
        "# formula in math: w = Sxy/Sxx\n",
        "\n",
        "#calculated Sxx (Sxx = sigma(x - sample_mean(x))^2)\n",
        "\n",
        "sample_smoker = insurance_data['smoker'].sum()/len(insurance_data['smoker'])\n",
        "sample_charges = insurance_data['charges'].sum()/len(insurance_data['smoker'])\n",
        "Sxx = 0\n",
        "for s in insurance_data['smoker']:\n",
        "    Sxx += (s - sample_smoker)**2\n",
        "print(Sxx)"
      ]
    },
    {
      "cell_type": "code",
      "execution_count": null,
      "metadata": {
        "colab": {
          "base_uri": "https://localhost:8080/"
        },
        "id": "L0cBjO74RI8x",
        "outputId": "29135602-2a15-45ab-d085-f8a9df47ff9f"
      },
      "outputs": [
        {
          "name": "stdout",
          "output_type": "stream",
          "text": [
            "Sxy is: 5145667.821191296\n"
          ]
        }
      ],
      "source": [
        "#calculated Sxy (Sxy = sigma(xiyi) - [(sigma(x)*sigma(y))/n])\n",
        "\n",
        "# calculated sigma(xiyi)\n",
        "insurance_data['Result'] = insurance_data['smoker'].mul(insurance_data['charges'])\n",
        "sigma_xy = insurance_data['Result'].sum()\n",
        "\n",
        "# calculated sigma(x)*sigma(y))/n\n",
        "sum_smoker = insurance_data['smoker'].sum()\n",
        "sum_charges = insurance_data['charges'].sum()\n",
        "sigma_xyn = (sum_smoker*sum_charges)/len(insurance_data['smoker'])\n",
        "\n",
        "Sxy = sigma_xy - sigma_xyn\n",
        "print('Sxy is:', Sxy)"
      ]
    },
    {
      "cell_type": "code",
      "execution_count": null,
      "metadata": {
        "colab": {
          "base_uri": "https://localhost:8080/"
        },
        "id": "0UebTtTCRKZJ",
        "outputId": "350bb5dc-807e-4595-9ea8-c28f2fc4fd25"
      },
      "outputs": [
        {
          "name": "stdout",
          "output_type": "stream",
          "text": [
            "coef_ is: 23615.963533676222\n"
          ]
        }
      ],
      "source": [
        "w1 = Sxy/Sxx\n",
        "print('coef_ is:', w1)"
      ]
    },
    {
      "cell_type": "code",
      "execution_count": null,
      "metadata": {
        "colab": {
          "base_uri": "https://localhost:8080/"
        },
        "id": "cZld8ngzRMq5",
        "outputId": "6a0adda8-2210-4b7c-ad7b-402ffa307180"
      },
      "outputs": [
        {
          "name": "stdout",
          "output_type": "stream",
          "text": [
            "Bias (intercept) is: 8434.268297856292\n"
          ]
        }
      ],
      "source": [
        "#calculated b = bias = intercept\n",
        "# b = sample_mean y - w1*sample_mean x\n",
        "\n",
        "b = sample_charges - w1*sample_smoker\n",
        "print('Bias (intercept) is:',b)"
      ]
    },
    {
      "cell_type": "markdown",
      "metadata": {
        "id": "GCWNAwwnRVcL"
      },
      "source": [
        "**Now is the predict with b and w is know**"
      ]
    },
    {
      "cell_type": "code",
      "execution_count": null,
      "metadata": {
        "colab": {
          "base_uri": "https://localhost:8080/"
        },
        "id": "4urcM8p-RNO6",
        "outputId": "543e4875-5976-4fab-912b-92fbcaad2161"
      },
      "outputs": [
        {
          "name": "stdout",
          "output_type": "stream",
          "text": [
            "Charges of patient without sklearn: 32050.231831532514\n",
            "Charges of new patient with sklearn: 32105.99597235294\n"
          ]
        }
      ],
      "source": [
        "# formula of predict y in linear regression is: y_pred = b + w*x\n",
        "y = b + w1*1\n",
        "print('Charges of patient without sklearn:',y)\n",
        "print('Charges of new patient with sklearn:',new_patient_pred2[0])"
      ]
    }
  ],
  "metadata": {
    "colab": {
      "provenance": []
    },
    "kernelspec": {
      "display_name": "Python 3",
      "name": "python3"
    },
    "language_info": {
      "name": "python"
    }
  },
  "nbformat": 4,
  "nbformat_minor": 0
}
